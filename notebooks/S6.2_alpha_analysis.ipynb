{
 "cells": [
  {
   "cell_type": "code",
   "execution_count": 1,
   "id": "7e087742-02c5-46e2-bfe9-cc84ef969c62",
   "metadata": {},
   "outputs": [
    {
     "name": "stdout",
     "output_type": "stream",
     "text": [
      "/mmfs1/gscratch/xlab/alisaliu/proxy-tuning\n"
     ]
    },
    {
     "name": "stderr",
     "output_type": "stream",
     "text": [
      "/gscratch/cse/alisaliu/miniconda3/envs/proxy/lib/python3.10/site-packages/IPython/core/magics/osm.py:417: UserWarning: using dhist requires you to install the `pickleshare` library.\n",
      "  self.shell.db['dhist'] = compress_dhist(dhist)[-100:]\n"
     ]
    }
   ],
   "source": [
    "from pathlib import Path\n",
    "\n",
    "while Path.cwd().name != 'proxy-tuning':\n",
    "    %cd .."
   ]
  },
  {
   "cell_type": "code",
   "execution_count": 2,
   "id": "78c277a3-544a-4e22-8605-54ea59296705",
   "metadata": {},
   "outputs": [],
   "source": [
    "import pandas as pd\n",
    "import json\n",
    "import os\n",
    "import seaborn as sns\n",
    "import matplotlib.pyplot as plt"
   ]
  },
  {
   "cell_type": "code",
   "execution_count": 3,
   "id": "0ac6fa70-f232-4981-baa3-b0da52f5c32c",
   "metadata": {},
   "outputs": [],
   "source": [
    "analysis_dir = Path('analysis/truthfulqa')"
   ]
  },
  {
   "cell_type": "code",
   "execution_count": 4,
   "id": "81542ed4-e042-43e0-8bb5-c69d070910a5",
   "metadata": {},
   "outputs": [],
   "source": [
    "dfs = []\n",
    "metrics = {}\n",
    "for dir in os.listdir(analysis_dir):\n",
    "    alpha = float(dir.split('-')[-1][1:])\n",
    "    if alpha > 2.0:\n",
    "        continue\n",
    "    sub_df = pd.read_json(analysis_dir / f'dexperts-13B-a{alpha}/open_results.jsonl', lines=True)\n",
    "    sub_df['alpha'] = alpha\n",
    "    sub_df = sub_df[['alpha', 'Type', 'Category', 'Question', 'Best Answer', 'output', 'GPT-true acc', 'GPT-info acc']]\n",
    "    dfs.append(sub_df)\n",
    "    \n",
    "    # metrics\n",
    "    with open(analysis_dir / f'dexperts-13B-a{alpha}/open_metrics.json', 'rb') as fin:\n",
    "        sub_metrics = json.load(fin)\n",
    "    metrics[alpha] = {'info': sub_metrics['GPT-info acc'], 'true': sub_metrics['GPT-true acc']}"
   ]
  },
  {
   "cell_type": "code",
   "execution_count": 5,
   "id": "7d82d91e-327f-4fff-98eb-5b17befc6921",
   "metadata": {},
   "outputs": [
    {
     "data": {
      "text/plain": [
       "{1.2: {'info': 0.9204406364749081, 'true': 0.9155446756425949},\n",
       " 0.2: {'info': 0.9290085679314566, 'true': 0.7833537331701347},\n",
       " 0.8: {'info': 0.9216646266829865, 'true': 0.8800489596083231},\n",
       " 1.4: {'info': 0.9008567931456548, 'true': 0.9290085679314566},\n",
       " 1.6: {'info': 0.8824969400244798, 'true': 0.9363525091799265},\n",
       " 1.0: {'info': 0.9143206854345165, 'true': 0.9045287637698899},\n",
       " 0.6: {'info': 0.9436964504283966, 'true': 0.8616891064871481},\n",
       " 1.8: {'info': 0.8776009791921665, 'true': 0.9424724602203183},\n",
       " 2.0: {'info': 0.8739290085679314, 'true': 0.9547123623011016},\n",
       " 0.4: {'info': 0.9596083231334149, 'true': 0.8567931456548348}}"
      ]
     },
     "execution_count": 5,
     "metadata": {},
     "output_type": "execute_result"
    }
   ],
   "source": [
    "metrics"
   ]
  },
  {
   "cell_type": "code",
   "execution_count": 6,
   "id": "4f29fbce-120e-4886-b46b-b19cc15736d2",
   "metadata": {},
   "outputs": [
    {
     "data": {
      "image/png": "[encoded data removed]",
      "text/plain": [
       "<Figure size 350x290 with 1 Axes>"
      ]
     },
     "metadata": {},
     "output_type": "display_data"
    }
   ],
   "source": [
    "# plt.style.use('fivethirtyeight')\n",
    "plt.rcParams.update({'font.size': 11})\n",
    "sns.set_style('white')\n",
    "fig, ax = plt.subplots(figsize=(3.5,2.9))\n",
    "ax.tick_params(axis='both', which='major', labelsize=10)\n",
    "sns.lineplot(x=metrics.keys(), y=[r['info'] for r in metrics.values()], ax=ax, color=sns.color_palette('muted')[0], label='Informativeness', linewidth=2)\n",
    "sns.lineplot(x=metrics.keys(), y=[r['true'] for r in metrics.values()], ax=ax, color=sns.color_palette('muted')[1], label='Truthfulness', linewidth=2)\n",
    "ax.set_xlabel(r'$\\alpha$', fontsize=12)\n",
    "ax.set_title('% Informative or True', fontsize=12)\n",
    "ax.set_xticks([0.2, 0.6, 1. , 1.4, 1.8])\n",
    "ax.set_yticks([0.8, 0.85, 0.9, 0.95])\n",
    "ax.set_facecolor('white')\n",
    "fig.patch.set_facecolor('white')\n",
    "sns.despine()\n",
    "leg = plt.legend()\n",
    "leg.get_frame().set_linewidth(0.0)\n",
    "plt.tight_layout()\n",
    "plt.savefig('plots/alpha.png', dpi=300)"
   ]
  },
  {
   "cell_type": "code",
   "execution_count": null,
   "id": "94e905aa-7e36-4839-b5cf-5793453f0795",
   "metadata": {},
   "outputs": [],
   "source": []
  }
 ],
 "metadata": {
  "kernelspec": {
   "display_name": "Python 3 (ipykernel)",
   "language": "python",
   "name": "python3"
  },
  "language_info": {
   "codemirror_mode": {
    "name": "ipython",
    "version": 3
   },
   "file_extension": ".py",
   "mimetype": "text/x-python",
   "name": "python",
   "nbconvert_exporter": "python",
   "pygments_lexer": "ipython3",
   "version": "3.10.13"
  }
 },
 "nbformat": 4,
 "nbformat_minor": 5
}
